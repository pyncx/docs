{
 "cells": [
  {
   "cell_type": "markdown",
   "metadata": {},
   "source": [
    "## Three States Markov Model"
   ]
  },
  {
   "cell_type": "code",
   "execution_count": 11,
   "metadata": {},
   "outputs": [],
   "source": [
    "import numpy as np\n",
    "import pandas as pd\n",
    "import matplotlib.pyplot as plt\n",
    "import seaborn as sns\n",
    "sns.set()\n",
    "%matplotlib inline"
   ]
  },
  {
   "cell_type": "markdown",
   "metadata": {},
   "source": [
    "Consider a 3 state Markov model as shown in the figure below."
   ]
  },
  {
   "cell_type": "markdown",
   "metadata": {},
   "source": [
    "<img src = \"img/three-states.png\" height = 300px, width=400px > <img>"
   ]
  },
  {
   "cell_type": "markdown",
   "metadata": {},
   "source": [
    "### Master Equation of Three State Model"
   ]
  },
  {
   "cell_type": "markdown",
   "metadata": {},
   "source": [
    "- C ,O, I: fraction of states in closed, open and inactive state\n",
    "- $K_{ci}$ =  rate of transition from state C to state I and so on\n",
    "\n",
    "**Condition of Equilibrium**: Influx is equal to outflux\n",
    "\n",
    "$$K_{co}.C =  K_{oc}.O$$\n",
    "$$K_{oi}.O  =  K_{io}.I$$\n",
    "$$K_{ic}.I    =  K_{ci}.C$$\n",
    "\n",
    "The **condition of detailed balance** : \n",
    "$$K_{co}.K_{oi}.K_{ic} = K_{oc}.K_{io}.K_{ci}$$\n",
    "\n",
    "I.e. The total transitions in clockwise direction is equal to total transitions in counter clockwise direction\n"
   ]
  },
  {
   "cell_type": "markdown",
   "metadata": {},
   "source": [
    "Central task: Can we derive the fraction of states at equilibrium?\n",
    "\n",
    "Answer: Yes, but for large degrees of freedom (states), it is tedious. We need \n",
    "\n",
    "- method of simulation or \n",
    "- numerical methods: \n",
    "    - Simultaneous differential equations \n",
    "    - Algebric Methods\n"
   ]
  },
  {
   "cell_type": "markdown",
   "metadata": {},
   "source": [
    "For equilibrium condition, we get\n",
    "\n",
    "$$k_{co} c = k_{oc} o => c = \\frac{k_{oc}}{k_{co}}o$$\n",
    "\n",
    "$$k_{oi} o = k_{io} i => i = \\frac{k_{oi}}{k_{io}}o$$\n",
    "\n",
    "$$k_{ic} i = k_{ci} c$$"
   ]
  },
  {
   "cell_type": "markdown",
   "metadata": {},
   "source": [
    "$$ o + c + i = 1$$"
   ]
  },
  {
   "cell_type": "markdown",
   "metadata": {},
   "source": [
    "### Analytical Solution"
   ]
  },
  {
   "cell_type": "markdown",
   "metadata": {},
   "source": [
    "- Identifying equilibrium condition and calculation of the fraction of states is important for calculation of \n",
    "  - ion concentration inside and outside of the membrane (for example outward sodium current or inward calcium current).\n",
    "  - Potential gradient between in and out of the membrane etc.\n",
    "  \n",
    "- An ion channel can be any state at any time. The rate constants like (K_ab) which represents the rate of transition from state A to B. Channel may take fraction of time to go from one state to another. In that situation the rate constant is modified by K*dt (for example in Monte Carlo simulation)\n",
    "\n",
    "- **Why do we need condition of equilibrium?** The real biological system is assumed to be equilibrium at a given environment. For a specific protocol, we can calculate the rate constants from experiments and design the models based on those rate constants and available states (Open, Closed, Inactive etc). Model give us further insights to understand the dynamics of the system. Statistical calculations like finding fraction of states at a given time or any other average values are possible only when there is an equilibrium.\n",
    "\n",
    "- **How do we know whether it is equilibrium or not?** In fact, at equilibrium there is constant flow from one state to another state. It feels like there is no extra accumulation over a specific state. This is represented by equations like $N*K_{co}*C = N*K_{oc}*O$. I.e. Consider N ion Channels, the population transitioning from C state to O is equal to the population transitioning from O to C state.\n",
    "\n",
    "- Implementing three different conditions of equilibrium, one can derive the single equation called the “principle of detailed balance”. Which means the flow of states in a clockwise direction is equal to the flow in anticlockwise direction.\n",
    "\n",
    "- Using the above conditions, we can easily derive the fraction of states in terms of rate constants. It is not practical to find analytical solution like this in case of large no of states. Some Computational technique is required. \n",
    "\n",
    "- For system which can be brought to the equilibrium condition, there exist different ways to solve : MonteCarlo Simulation, Numerical Methods ( Simultaneous differential equations, Algebraic methods). We can also study the system not in equilibrium where simultaneous differential equation method can be used but it leads to chaotic system for example arrhythmia, long QT syndrome etc. \n",
    "\n"
   ]
  },
  {
   "cell_type": "code",
   "execution_count": 12,
   "metadata": {},
   "outputs": [],
   "source": [
    "k_oi,k_oc = 0.5,0.9\n",
    "k_io,k_ic = 0.3,0.72\n",
    "k_co,k_ci = 0.6,0.8\n",
    "dt = 0.01"
   ]
  },
  {
   "cell_type": "markdown",
   "metadata": {},
   "source": [
    "$\\large{O = \\frac{1}{1 + \\frac{k_{oc}}{k_{co}} + \\frac{k_{oi}}{k_{io}}}}$"
   ]
  },
  {
   "cell_type": "code",
   "execution_count": 13,
   "metadata": {},
   "outputs": [
    {
     "data": {
      "text/plain": [
       "0.24"
      ]
     },
     "execution_count": 13,
     "metadata": {},
     "output_type": "execute_result"
    }
   ],
   "source": [
    " 1/(1+(k_oc/k_co)+(k_oi/k_io))"
   ]
  },
  {
   "cell_type": "markdown",
   "metadata": {},
   "source": [
    "$\\large{C = \\frac{\\frac{k_{oc}}{k_{co}}}{1 + \\frac{k_{oc}}{k_{co}} + \\frac{k_{oi}}{k_{io}}}}$"
   ]
  },
  {
   "cell_type": "code",
   "execution_count": 14,
   "metadata": {},
   "outputs": [
    {
     "data": {
      "text/plain": [
       "0.36"
      ]
     },
     "execution_count": 14,
     "metadata": {},
     "output_type": "execute_result"
    }
   ],
   "source": [
    " (k_oc/k_co)/(1+(k_oc/k_co)+(k_oi/k_io))"
   ]
  },
  {
   "cell_type": "markdown",
   "metadata": {},
   "source": [
    "$\\large{I = \\frac{\\frac{k_{oi}}{k_{io}}}{1 + \\frac{k_{oc}}{k_{co}} + \\frac{k_{oi}}{k_{io}}}}$"
   ]
  },
  {
   "cell_type": "code",
   "execution_count": 15,
   "metadata": {},
   "outputs": [
    {
     "data": {
      "text/plain": [
       "0.39999999999999997"
      ]
     },
     "execution_count": 15,
     "metadata": {},
     "output_type": "execute_result"
    }
   ],
   "source": [
    " (k_oi/k_io)/(1+(k_oc/k_co)+(k_oi/k_io))"
   ]
  },
  {
   "cell_type": "markdown",
   "metadata": {},
   "source": [
    "### Monte Carlo Simulation"
   ]
  },
  {
   "cell_type": "markdown",
   "metadata": {},
   "source": [
    "Monte carlo simulation is a technique to generate samples based on certain distribution. In statistical Mechanics we use this technique to simulate the system of gas ( idle and real gas) where we used the Blotzman fraction (based on Hamiltonian of the system $(\\exp(E/KT)$) for simulation. \n",
    "\n",
    "In our case, for each of the state we have probability distribution vector. For example if the current state is in state “O”. The probability vector is $[K_{oo}*dt, K_{oc}*dt, K_{oi}*dt]$ which represents the probability for state to remain at ‘O’, go to ‘C’ state and go to ‘I’ state respectively.\n",
    "\n",
    "**How do we do monte carlo simulation?**\n",
    "- We start with N number of ion channels. \n",
    "- For each ion channel we create a Markov chain like  ---O---C---I---i---O---- time 0 to T. In this Markov chain, generation of every new state is totally based on current state only. Not on the history of the past states (Red cross X). Due to this property, it is called memoryless chain of states.\n",
    "- From simulated data, we can calculate the fraction of the states out of N channels. We can calculate this for any instant of time and make a plot to see whether there is equilibrium or not.\n"
   ]
  },
  {
   "cell_type": "markdown",
   "metadata": {},
   "source": [
    "**Central task**: Can we derive the fraction of states at equilibrium?\n",
    "Yes, following are the steps:\n",
    "- Start with N random ion channels \n",
    "- For each channel, generate a new state based on conditional probability.\n",
    "- At given point of time calculate the fraction of each state out of total population N along with statistical error and plot the result over time\n",
    "- Find out the equilibrium and mean fluctuation (standard deviation). Clue: By increasing total population (N), fluctuation can be reduced\n"
   ]
  },
  {
   "cell_type": "markdown",
   "metadata": {},
   "source": [
    "<img src = \"img/mchain3.png\" height = 400px, width=500px > <img>"
   ]
  },
  {
   "cell_type": "markdown",
   "metadata": {},
   "source": [
    "- The biggest idea behind why method of simulation is valid for a system like muli-state ion channel is “Principle of ergodicity”. Which means observation of a single ion channel for a very long time (T -> infty) is equivalent to the observation of large number of  ion channels (N-> infty) at a specific time.\n",
    "- The first table is a collection of rate constant. Where as the second table is for comparison of analytical solution and expectation values from simulation. There is a certain error due to sampling through simulation where data appears to be fluctuation around the mean value equal to analytical value. One can represent the expectation value using standard error."
   ]
  },
  {
   "cell_type": "markdown",
   "metadata": {},
   "source": [
    "The associated conditional probabilities can be arranged to represent weighted probability vector for each state\n",
    "\n",
    "<img src = \"img/mchain-table.png\" height = 400px, width=600px > <img>"
   ]
  },
  {
   "cell_type": "markdown",
   "metadata": {},
   "source": [
    "**Challenge**: What is the guarantee that we will reach to the system at equilibrium starting from random initial state?\n",
    "\n",
    "**The clue is Ergodicity**: the time average of the system(T $\\rightarrow \\infty$) equal to the ensemble average ($N \\rightarrow \\infty$)\n"
   ]
  },
  {
   "cell_type": "markdown",
   "metadata": {},
   "source": [
    "#### Weighted Probability Vector"
   ]
  },
  {
   "cell_type": "markdown",
   "metadata": {},
   "source": [
    "We can arrange the conditional probability to create a weighted probability vactor for Monte Carlo Simulation"
   ]
  },
  {
   "cell_type": "markdown",
   "metadata": {},
   "source": [
    "$$P(O) = [1-(k_oc + k_oi)d\\tau,   k_oc d\\tau,   k_oi d\\tau]$$\n",
    "\n",
    "$$P(C) = [k_co d\\tau,  1-(k_co + k_ci) d\\tau,    k_ci d\\tau]$$\n",
    "\n",
    "$$P(I) = [k_io d\\tau,  k_ic d\\tau,   1 - (k_io + k_ic) d\\tau]$$"
   ]
  },
  {
   "cell_type": "code",
   "execution_count": 16,
   "metadata": {},
   "outputs": [],
   "source": [
    "M = {\"O\": [1-(k_oc + k_oi)*dt,   k_oc*dt,   k_oi*dt],\n",
    "     \"C\": [k_co*dt,  1-(k_co + k_ci)*dt,    k_ci*dt],\n",
    "     \"I\": [k_io*dt,  k_ic*dt,   1 - (k_io + k_ic)*dt]}\n",
    "\n",
    "states = [\"O\",\"C\",\"I\"]"
   ]
  },
  {
   "cell_type": "code",
   "execution_count": 17,
   "metadata": {},
   "outputs": [
    {
     "data": {
      "text/plain": [
       "([0.986, 0.009000000000000001, 0.005],\n",
       " [0.006, 0.986, 0.008],\n",
       " [0.003, 0.0072, 0.9898])"
      ]
     },
     "execution_count": 17,
     "metadata": {},
     "output_type": "execute_result"
    }
   ],
   "source": [
    "M[\"O\"],M[\"C\"],M[\"I\"]"
   ]
  },
  {
   "cell_type": "markdown",
   "metadata": {},
   "source": [
    "### Simulation"
   ]
  },
  {
   "cell_type": "code",
   "execution_count": 31,
   "metadata": {},
   "outputs": [],
   "source": [
    "current_state = \"O\"\n",
    "T =100\n",
    "N =10000\n",
    "\n",
    "SS = [[\"O\" for n in range (T)] for t in range(N)]\n",
    "\n",
    "for n in range(N):\n",
    "    no,nc,ni =0,0,0\n",
    "    for t in range(T):\n",
    "        new_state = np.random.choice(states, p = M[current_state])\n",
    "        #print(new_state)\n",
    "        SS[n][t] = new_state\n",
    "        current_state = new_state "
   ]
  },
  {
   "cell_type": "markdown",
   "metadata": {},
   "source": [
    "#### Counting and Ensamble everage of states"
   ]
  },
  {
   "cell_type": "code",
   "execution_count": 32,
   "metadata": {},
   "outputs": [],
   "source": [
    "ss = np.array(SS)"
   ]
  },
  {
   "cell_type": "code",
   "execution_count": 33,
   "metadata": {},
   "outputs": [],
   "source": [
    "Data = []\n",
    "X = []\n",
    "for t in range(T):\n",
    "    X.append(t)\n",
    "    o = list(ss[:,t]).count(\"O\")/float(N)\n",
    "    c = list(ss[:,t]).count(\"C\")/float(N)\n",
    "    i = list(ss[:,t]).count(\"I\")/float(N)\n",
    "    Data.append({\"O\":o,\"C\":c,\"I\":i})"
   ]
  },
  {
   "cell_type": "markdown",
   "metadata": {},
   "source": [
    "#### Data Frame"
   ]
  },
  {
   "cell_type": "code",
   "execution_count": 34,
   "metadata": {},
   "outputs": [
    {
     "data": {
      "text/html": [
       "<div>\n",
       "<style scoped>\n",
       "    .dataframe tbody tr th:only-of-type {\n",
       "        vertical-align: middle;\n",
       "    }\n",
       "\n",
       "    .dataframe tbody tr th {\n",
       "        vertical-align: top;\n",
       "    }\n",
       "\n",
       "    .dataframe thead th {\n",
       "        text-align: right;\n",
       "    }\n",
       "</style>\n",
       "<table border=\"1\" class=\"dataframe\">\n",
       "  <thead>\n",
       "    <tr style=\"text-align: right;\">\n",
       "      <th></th>\n",
       "      <th>C</th>\n",
       "      <th>I</th>\n",
       "      <th>O</th>\n",
       "    </tr>\n",
       "  </thead>\n",
       "  <tbody>\n",
       "    <tr>\n",
       "      <th>0</th>\n",
       "      <td>0.3690</td>\n",
       "      <td>0.3933</td>\n",
       "      <td>0.2377</td>\n",
       "    </tr>\n",
       "    <tr>\n",
       "      <th>1</th>\n",
       "      <td>0.3688</td>\n",
       "      <td>0.3925</td>\n",
       "      <td>0.2387</td>\n",
       "    </tr>\n",
       "    <tr>\n",
       "      <th>2</th>\n",
       "      <td>0.3700</td>\n",
       "      <td>0.3921</td>\n",
       "      <td>0.2379</td>\n",
       "    </tr>\n",
       "    <tr>\n",
       "      <th>3</th>\n",
       "      <td>0.3718</td>\n",
       "      <td>0.3906</td>\n",
       "      <td>0.2376</td>\n",
       "    </tr>\n",
       "    <tr>\n",
       "      <th>4</th>\n",
       "      <td>0.3706</td>\n",
       "      <td>0.3907</td>\n",
       "      <td>0.2387</td>\n",
       "    </tr>\n",
       "  </tbody>\n",
       "</table>\n",
       "</div>"
      ],
      "text/plain": [
       "        C       I       O\n",
       "0  0.3690  0.3933  0.2377\n",
       "1  0.3688  0.3925  0.2387\n",
       "2  0.3700  0.3921  0.2379\n",
       "3  0.3718  0.3906  0.2376\n",
       "4  0.3706  0.3907  0.2387"
      ]
     },
     "execution_count": 34,
     "metadata": {},
     "output_type": "execute_result"
    }
   ],
   "source": [
    "DF = pd.DataFrame(Data)\n",
    "DF.head()"
   ]
  },
  {
   "cell_type": "markdown",
   "metadata": {},
   "source": [
    "#### Mean and Standard deviation of states"
   ]
  },
  {
   "cell_type": "code",
   "execution_count": 38,
   "metadata": {},
   "outputs": [
    {
     "data": {
      "text/plain": [
       "(0.36810600000000016, 0.0020315103601592412)"
      ]
     },
     "execution_count": 38,
     "metadata": {},
     "output_type": "execute_result"
    }
   ],
   "source": [
    "DF['C'].mean(),DF['C'].std(),"
   ]
  },
  {
   "cell_type": "code",
   "execution_count": 36,
   "metadata": {},
   "outputs": [
    {
     "data": {
      "text/plain": [
       "(0.23638799999999993, 0.002197670024219635)"
      ]
     },
     "execution_count": 36,
     "metadata": {},
     "output_type": "execute_result"
    }
   ],
   "source": [
    "DF['O'].mean(),DF['O'].std(),"
   ]
  },
  {
   "cell_type": "code",
   "execution_count": 37,
   "metadata": {},
   "outputs": [
    {
     "data": {
      "text/plain": [
       "(0.3955060000000002, 0.00228507763500057)"
      ]
     },
     "execution_count": 37,
     "metadata": {},
     "output_type": "execute_result"
    }
   ],
   "source": [
    "DF['I'].mean(),DF['I'].std(),"
   ]
  },
  {
   "cell_type": "markdown",
   "metadata": {},
   "source": [
    "### Plot: Equilibrium"
   ]
  },
  {
   "cell_type": "markdown",
   "metadata": {},
   "source": [
    "The plot represents how fraction of states fluctuate through time 0 to T. The plot shows clear equilibrium as there in no significant change in the values. As we increase the total population of ion channels (N). The error minimizes. Theoretically for N = infinity, the expectation value converges to the analytical value.\n"
   ]
  },
  {
   "cell_type": "code",
   "execution_count": 15,
   "metadata": {},
   "outputs": [
    {
     "data": {
      "image/png": "[encoded data removed]",
      "text/plain": [
       "<Figure size 720x288 with 1 Axes>"
      ]
     },
     "metadata": {},
     "output_type": "display_data"
    }
   ],
   "source": [
    "# plot results\n",
    "plt.figure(figsize = [10,4])\n",
    "plt.plot(X,DF['O'],color =\"orange\",linewidth=2,label='open')\n",
    "plt.plot(X,DF['C'],color =\"magenta\", linewidth=2,label='closed')\n",
    "plt.plot(X,DF['I'],color = \"blue\",linewidth=2,label='inactive')\n",
    "plt.grid(True)\n",
    "plt.xlabel('Time(t)',fontsize=15)\n",
    "plt.ylabel('Fraction of states: y(t)',fontsize=15)\n",
    "plt.title(\"Plot of fraction of states out of N states\",fontsize=15)\n",
    "plt.legend()\n",
    "plt.savefig(\"Sim.png\")\n",
    "plt.show()"
   ]
  },
  {
   "cell_type": "code",
   "execution_count": 144,
   "metadata": {},
   "outputs": [],
   "source": [
    "I = 0.4\n",
    "C =0.36\n",
    "O = 0.24"
   ]
  }
 ],
 "metadata": {
  "kernelspec": {
   "display_name": "Python 3",
   "language": "python",
   "name": "python3"
  },
  "language_info": {
   "codemirror_mode": {
    "name": "ipython",
    "version": 3
   },
   "file_extension": ".py",
   "mimetype": "text/x-python",
   "name": "python",
   "nbconvert_exporter": "python",
   "pygments_lexer": "ipython3",
   "version": "3.7.1"
  }
 },
 "nbformat": 4,
 "nbformat_minor": 2
}
